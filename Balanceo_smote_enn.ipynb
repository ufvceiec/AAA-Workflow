{
 "cells": [
  {
   "cell_type": "code",
   "execution_count": 1,
   "metadata": {},
   "outputs": [
    {
     "name": "stderr",
     "output_type": "stream",
     "text": [
      "Using TensorFlow backend.\n"
     ]
    }
   ],
   "source": [
    "import workflow as wf\n",
    "import pandas as pd\n",
    "import numpy as np"
   ]
  },
  {
   "cell_type": "code",
   "execution_count": null,
   "metadata": {},
   "outputs": [],
   "source": [
    "path = \"REGISTRO  FERNANDO PARA IA.xls\""
   ]
  },
  {
   "cell_type": "code",
   "execution_count": 2,
   "metadata": {},
   "outputs": [],
   "source": [
    "datos_raw = wf.load_and_clean(path)"
   ]
  },
  {
   "cell_type": "code",
   "execution_count": 3,
   "metadata": {},
   "outputs": [],
   "source": [
    "datos_chi = wf.chi_squared_test(datos_raw, 'EXITUS30D')"
   ]
  },
  {
   "cell_type": "code",
   "execution_count": 4,
   "metadata": {},
   "outputs": [],
   "source": [
    "datos_imputed = wf.most_frequent_and_knn_imputation(datos_chi)"
   ]
  },
  {
   "cell_type": "code",
   "execution_count": 5,
   "metadata": {},
   "outputs": [],
   "source": [
    "data_std = wf.standard_scaler(datos_imputed)"
   ]
  },
  {
   "cell_type": "code",
   "execution_count": 6,
   "metadata": {},
   "outputs": [
    {
     "data": {
      "text/plain": [
       "no    343\n",
       "si     29\n",
       "Name: EXITUS30D, dtype: int64"
      ]
     },
     "execution_count": 6,
     "metadata": {},
     "output_type": "execute_result"
    }
   ],
   "source": [
    "data_std['EXITUS30D'].value_counts()"
   ]
  },
  {
   "cell_type": "code",
   "execution_count": 7,
   "metadata": {},
   "outputs": [],
   "source": [
    "data_encoded = wf.ordinal_encoding(data_std)"
   ]
  },
  {
   "cell_type": "code",
   "execution_count": 8,
   "metadata": {},
   "outputs": [],
   "source": [
    "data_balanced = wf.smote_edited_nearest_neighbor(data_encoded, 'EXITUS30D')"
   ]
  },
  {
   "cell_type": "code",
   "execution_count": 9,
   "metadata": {},
   "outputs": [
    {
     "data": {
      "text/plain": [
       "2    343\n",
       "1    311\n",
       "Name: EXITUS30D, dtype: int64"
      ]
     },
     "execution_count": 9,
     "metadata": {},
     "output_type": "execute_result"
    }
   ],
   "source": [
    "data_balanced['EXITUS30D'].value_counts()"
   ]
  },
  {
   "cell_type": "code",
   "execution_count": 10,
   "metadata": {},
   "outputs": [],
   "source": [
    "data_balanced_dropped = data_balanced.drop(columns = ['EXITUS30D'])"
   ]
  },
  {
   "cell_type": "code",
   "execution_count": 11,
   "metadata": {},
   "outputs": [
    {
     "data": {
      "text/plain": [
       "(654, 31)"
      ]
     },
     "execution_count": 11,
     "metadata": {},
     "output_type": "execute_result"
    }
   ],
   "source": [
    "data_balanced.shape"
   ]
  },
  {
   "cell_type": "code",
   "execution_count": 12,
   "metadata": {},
   "outputs": [
    {
     "data": {
      "text/plain": [
       "(654, 30)"
      ]
     },
     "execution_count": 12,
     "metadata": {},
     "output_type": "execute_result"
    }
   ],
   "source": [
    "data_balanced_dropped.shape"
   ]
  },
  {
   "cell_type": "code",
   "execution_count": 13,
   "metadata": {},
   "outputs": [
    {
     "name": "stdout",
     "output_type": "stream",
     "text": [
      "(523, 30) (131, 30)\n",
      "(523, 1) (131, 1)\n"
     ]
    }
   ],
   "source": [
    "x_train, x_test, y_train, y_test, network_output = wf.prep_datos_red('EXITUS30D' , data_balanced, data_balanced_dropped)"
   ]
  },
  {
   "cell_type": "code",
   "execution_count": 14,
   "metadata": {},
   "outputs": [],
   "source": [
    "a = pd.DataFrame(y_train, columns=['exitus'])"
   ]
  },
  {
   "cell_type": "code",
   "execution_count": 15,
   "metadata": {},
   "outputs": [
    {
     "data": {
      "text/plain": [
       "0    274\n",
       "1    249\n",
       "Name: exitus, dtype: int64"
      ]
     },
     "execution_count": 15,
     "metadata": {},
     "output_type": "execute_result"
    }
   ],
   "source": [
    "a['exitus'].value_counts()"
   ]
  },
  {
   "cell_type": "code",
   "execution_count": 16,
   "metadata": {},
   "outputs": [
    {
     "name": "stdout",
     "output_type": "stream",
     "text": [
      "Tiempo total del Grid Search:  76.0 minutos\n",
      "\n",
      "Acurracy de la red: 0.998088 usando {'batch_size': 16, 'dropout_rate': 0.1, 'epochs': 1000, 'neurons': 8}\n",
      "\n",
      "0.992352 con: {'batch_size': 16, 'dropout_rate': 0.1, 'epochs': 1000, 'neurons': 4}\n",
      "0.998088 con: {'batch_size': 16, 'dropout_rate': 0.1, 'epochs': 1000, 'neurons': 8}\n",
      "0.996176 con: {'batch_size': 16, 'dropout_rate': 0.1, 'epochs': 1000, 'neurons': 12}\n",
      "0.996176 con: {'batch_size': 16, 'dropout_rate': 0.15, 'epochs': 1000, 'neurons': 4}\n",
      "0.996176 con: {'batch_size': 16, 'dropout_rate': 0.15, 'epochs': 1000, 'neurons': 8}\n",
      "0.996176 con: {'batch_size': 16, 'dropout_rate': 0.15, 'epochs': 1000, 'neurons': 12}\n",
      "0.992352 con: {'batch_size': 16, 'dropout_rate': 0.2, 'epochs': 1000, 'neurons': 4}\n",
      "0.996176 con: {'batch_size': 16, 'dropout_rate': 0.2, 'epochs': 1000, 'neurons': 8}\n",
      "0.994264 con: {'batch_size': 16, 'dropout_rate': 0.2, 'epochs': 1000, 'neurons': 12}\n",
      "0.994264 con: {'batch_size': 32, 'dropout_rate': 0.1, 'epochs': 1000, 'neurons': 4}\n",
      "0.994264 con: {'batch_size': 32, 'dropout_rate': 0.1, 'epochs': 1000, 'neurons': 8}\n",
      "0.994264 con: {'batch_size': 32, 'dropout_rate': 0.1, 'epochs': 1000, 'neurons': 12}\n",
      "0.961759 con: {'batch_size': 32, 'dropout_rate': 0.15, 'epochs': 1000, 'neurons': 4}\n",
      "0.996176 con: {'batch_size': 32, 'dropout_rate': 0.15, 'epochs': 1000, 'neurons': 8}\n",
      "0.996176 con: {'batch_size': 32, 'dropout_rate': 0.15, 'epochs': 1000, 'neurons': 12}\n",
      "0.990440 con: {'batch_size': 32, 'dropout_rate': 0.2, 'epochs': 1000, 'neurons': 4}\n",
      "0.994264 con: {'batch_size': 32, 'dropout_rate': 0.2, 'epochs': 1000, 'neurons': 8}\n",
      "0.996176 con: {'batch_size': 32, 'dropout_rate': 0.2, 'epochs': 1000, 'neurons': 12}\n",
      "0.996176 con: {'batch_size': 64, 'dropout_rate': 0.1, 'epochs': 1000, 'neurons': 4}\n",
      "0.994264 con: {'batch_size': 64, 'dropout_rate': 0.1, 'epochs': 1000, 'neurons': 8}\n",
      "0.998088 con: {'batch_size': 64, 'dropout_rate': 0.1, 'epochs': 1000, 'neurons': 12}\n",
      "0.906310 con: {'batch_size': 64, 'dropout_rate': 0.15, 'epochs': 1000, 'neurons': 4}\n",
      "0.992352 con: {'batch_size': 64, 'dropout_rate': 0.15, 'epochs': 1000, 'neurons': 8}\n",
      "0.996176 con: {'batch_size': 64, 'dropout_rate': 0.15, 'epochs': 1000, 'neurons': 12}\n",
      "0.986616 con: {'batch_size': 64, 'dropout_rate': 0.2, 'epochs': 1000, 'neurons': 4}\n",
      "0.986616 con: {'batch_size': 64, 'dropout_rate': 0.2, 'epochs': 1000, 'neurons': 8}\n",
      "0.996176 con: {'batch_size': 64, 'dropout_rate': 0.2, 'epochs': 1000, 'neurons': 12}\n"
     ]
    }
   ],
   "source": [
    "best_params = wf.grid_search_mlp(x_train, y_train, x_test, y_test)"
   ]
  },
  {
   "cell_type": "code",
   "execution_count": 17,
   "metadata": {},
   "outputs": [
    {
     "data": {
      "text/plain": [
       "{'batch_size': 16, 'dropout_rate': 0.1, 'epochs': 1000, 'neurons': 8}"
      ]
     },
     "execution_count": 17,
     "metadata": {},
     "output_type": "execute_result"
    }
   ],
   "source": [
    "best_params"
   ]
  },
  {
   "cell_type": "code",
   "execution_count": 18,
   "metadata": {},
   "outputs": [],
   "source": [
    "best_model = wf.create_model(dropout_rate=best_params['dropout_rate'], neurons=best_params['neurons'])"
   ]
  },
  {
   "cell_type": "code",
   "execution_count": 19,
   "metadata": {
    "scrolled": true
   },
   "outputs": [
    {
     "name": "stdout",
     "output_type": "stream",
     "text": [
      "Train on 418 samples, validate on 105 samples\n",
      "Epoch 1/1000\n",
      "\n",
      "Epoch 00001: val_loss improved from inf to 0.71941, saving model to models/best_model.h5\n",
      "418/418 - 1s - loss: 0.7219 - acc: 0.4067 - val_loss: 0.7194 - val_acc: 0.4667\n",
      "Epoch 2/1000\n",
      "\n",
      "Epoch 00002: val_loss improved from 0.71941 to 0.71384, saving model to models/best_model.h5\n",
      "418/418 - 0s - loss: 0.7139 - acc: 0.4258 - val_loss: 0.7138 - val_acc: 0.4667\n",
      "Epoch 3/1000\n",
      "\n",
      "Epoch 00003: val_loss improved from 0.71384 to 0.70883, saving model to models/best_model.h5\n",
      "418/418 - 0s - loss: 0.7203 - acc: 0.3971 - val_loss: 0.7088 - val_acc: 0.4762\n",
      "Epoch 4/1000\n",
      "\n",
      "Epoch 00004: val_loss improved from 0.70883 to 0.70471, saving model to models/best_model.h5\n",
      "418/418 - 0s - loss: 0.7161 - acc: 0.4258 - val_loss: 0.7047 - val_acc: 0.4857\n",
      "Epoch 5/1000\n",
      "\n",
      "Epoch 00005: val_loss improved from 0.70471 to 0.70031, saving model to models/best_model.h5\n",
      "418/418 - 0s - loss: 0.7100 - acc: 0.4378 - val_loss: 0.7003 - val_acc: 0.4857\n",
      "Epoch 6/1000\n",
      "\n",
      "Epoch 00006: val_loss improved from 0.70031 to 0.69721, saving model to models/best_model.h5\n",
      "418/418 - 0s - loss: 0.7080 - acc: 0.4426 - val_loss: 0.6972 - val_acc: 0.5048\n",
      "Epoch 7/1000\n",
      "\n",
      "Epoch 00007: val_loss improved from 0.69721 to 0.69508, saving model to models/best_model.h5\n",
      "418/418 - 0s - loss: 0.7035 - acc: 0.4545 - val_loss: 0.6951 - val_acc: 0.5143\n",
      "Epoch 8/1000\n",
      "\n",
      "Epoch 00008: val_loss improved from 0.69508 to 0.69246, saving model to models/best_model.h5\n",
      "418/418 - 0s - loss: 0.7040 - acc: 0.4641 - val_loss: 0.6925 - val_acc: 0.5238\n",
      "Epoch 9/1000\n",
      "\n",
      "Epoch 00009: val_loss improved from 0.69246 to 0.68960, saving model to models/best_model.h5\n",
      "418/418 - 0s - loss: 0.7067 - acc: 0.4689 - val_loss: 0.6896 - val_acc: 0.5333\n",
      "Epoch 10/1000\n",
      "\n",
      "Epoch 00010: val_loss improved from 0.68960 to 0.68718, saving model to models/best_model.h5\n",
      "418/418 - 0s - loss: 0.7014 - acc: 0.4904 - val_loss: 0.6872 - val_acc: 0.5333\n",
      "Epoch 11/1000\n",
      "\n",
      "Epoch 00011: val_loss improved from 0.68718 to 0.68462, saving model to models/best_model.h5\n",
      "418/418 - 0s - loss: 0.7008 - acc: 0.5048 - val_loss: 0.6846 - val_acc: 0.5619\n",
      "Epoch 12/1000\n",
      "\n",
      "Epoch 00012: val_loss improved from 0.68462 to 0.68173, saving model to models/best_model.h5\n",
      "418/418 - 0s - loss: 0.6957 - acc: 0.5215 - val_loss: 0.6817 - val_acc: 0.5714\n",
      "Epoch 13/1000\n",
      "\n",
      "Epoch 00013: val_loss improved from 0.68173 to 0.67959, saving model to models/best_model.h5\n",
      "418/418 - 0s - loss: 0.6920 - acc: 0.5167 - val_loss: 0.6796 - val_acc: 0.5714\n",
      "Epoch 14/1000\n",
      "\n",
      "Epoch 00014: val_loss improved from 0.67959 to 0.67812, saving model to models/best_model.h5\n",
      "418/418 - 0s - loss: 0.6907 - acc: 0.5167 - val_loss: 0.6781 - val_acc: 0.5714\n",
      "Epoch 15/1000\n",
      "\n",
      "Epoch 00015: val_loss improved from 0.67812 to 0.67636, saving model to models/best_model.h5\n",
      "418/418 - 0s - loss: 0.6959 - acc: 0.4713 - val_loss: 0.6764 - val_acc: 0.5714\n",
      "Epoch 16/1000\n",
      "\n",
      "Epoch 00016: val_loss improved from 0.67636 to 0.67461, saving model to models/best_model.h5\n",
      "418/418 - 0s - loss: 0.6939 - acc: 0.5215 - val_loss: 0.6746 - val_acc: 0.5810\n",
      "Epoch 17/1000\n",
      "\n",
      "Epoch 00017: val_loss improved from 0.67461 to 0.67367, saving model to models/best_model.h5\n",
      "418/418 - 0s - loss: 0.6910 - acc: 0.5120 - val_loss: 0.6737 - val_acc: 0.5810\n",
      "Epoch 18/1000\n",
      "\n",
      "Epoch 00018: val_loss improved from 0.67367 to 0.67172, saving model to models/best_model.h5\n",
      "418/418 - 0s - loss: 0.6913 - acc: 0.5120 - val_loss: 0.6717 - val_acc: 0.5810\n",
      "Epoch 19/1000\n",
      "\n",
      "Epoch 00019: val_loss improved from 0.67172 to 0.67018, saving model to models/best_model.h5\n",
      "418/418 - 0s - loss: 0.6853 - acc: 0.5287 - val_loss: 0.6702 - val_acc: 0.5810\n",
      "Epoch 20/1000\n",
      "\n",
      "Epoch 00020: val_loss improved from 0.67018 to 0.66869, saving model to models/best_model.h5\n",
      "418/418 - 0s - loss: 0.6844 - acc: 0.5024 - val_loss: 0.6687 - val_acc: 0.6000\n",
      "Epoch 21/1000\n",
      "\n",
      "Epoch 00021: val_loss improved from 0.66869 to 0.66765, saving model to models/best_model.h5\n",
      "418/418 - 0s - loss: 0.6807 - acc: 0.5167 - val_loss: 0.6676 - val_acc: 0.6095\n",
      "Epoch 22/1000\n",
      "\n",
      "Epoch 00022: val_loss improved from 0.66765 to 0.66604, saving model to models/best_model.h5\n",
      "418/418 - 0s - loss: 0.6781 - acc: 0.5311 - val_loss: 0.6660 - val_acc: 0.6190\n",
      "Epoch 23/1000\n",
      "\n",
      "Epoch 00023: val_loss improved from 0.66604 to 0.66503, saving model to models/best_model.h5\n",
      "418/418 - 0s - loss: 0.6791 - acc: 0.5478 - val_loss: 0.6650 - val_acc: 0.6190\n",
      "Epoch 24/1000\n",
      "\n",
      "Epoch 00024: val_loss improved from 0.66503 to 0.66351, saving model to models/best_model.h5\n",
      "418/418 - 0s - loss: 0.6810 - acc: 0.5478 - val_loss: 0.6635 - val_acc: 0.6286\n",
      "Epoch 25/1000\n",
      "\n",
      "Epoch 00025: val_loss improved from 0.66351 to 0.66223, saving model to models/best_model.h5\n",
      "418/418 - 0s - loss: 0.6797 - acc: 0.5431 - val_loss: 0.6622 - val_acc: 0.6286\n",
      "Epoch 26/1000\n",
      "\n",
      "Epoch 00026: val_loss improved from 0.66223 to 0.66075, saving model to models/best_model.h5\n",
      "418/418 - 0s - loss: 0.6847 - acc: 0.5502 - val_loss: 0.6607 - val_acc: 0.6286\n",
      "Epoch 27/1000\n",
      "\n",
      "Epoch 00027: val_loss improved from 0.66075 to 0.65996, saving model to models/best_model.h5\n",
      "418/418 - 0s - loss: 0.6811 - acc: 0.5215 - val_loss: 0.6600 - val_acc: 0.6381\n",
      "Epoch 28/1000\n",
      "\n",
      "Epoch 00028: val_loss improved from 0.65996 to 0.65877, saving model to models/best_model.h5\n",
      "418/418 - 0s - loss: 0.6801 - acc: 0.5311 - val_loss: 0.6588 - val_acc: 0.6381\n",
      "Epoch 29/1000\n",
      "\n",
      "Epoch 00029: val_loss improved from 0.65877 to 0.65756, saving model to models/best_model.h5\n",
      "418/418 - 0s - loss: 0.6754 - acc: 0.5311 - val_loss: 0.6576 - val_acc: 0.6381\n",
      "Epoch 30/1000\n",
      "\n",
      "Epoch 00030: val_loss improved from 0.65756 to 0.65646, saving model to models/best_model.h5\n",
      "418/418 - 0s - loss: 0.6713 - acc: 0.5622 - val_loss: 0.6565 - val_acc: 0.6381\n",
      "Epoch 31/1000\n",
      "\n",
      "Epoch 00031: val_loss improved from 0.65646 to 0.65506, saving model to models/best_model.h5\n",
      "418/418 - 0s - loss: 0.6752 - acc: 0.5431 - val_loss: 0.6551 - val_acc: 0.6571\n",
      "Epoch 32/1000\n",
      "\n",
      "Epoch 00032: val_loss improved from 0.65506 to 0.65312, saving model to models/best_model.h5\n",
      "418/418 - 0s - loss: 0.6697 - acc: 0.5694 - val_loss: 0.6531 - val_acc: 0.6571\n",
      "Epoch 33/1000\n",
      "\n",
      "Epoch 00033: val_loss improved from 0.65312 to 0.65143, saving model to models/best_model.h5\n",
      "418/418 - 0s - loss: 0.6701 - acc: 0.5383 - val_loss: 0.6514 - val_acc: 0.6571\n",
      "Epoch 34/1000\n",
      "\n",
      "Epoch 00034: val_loss improved from 0.65143 to 0.65026, saving model to models/best_model.h5\n",
      "418/418 - 0s - loss: 0.6698 - acc: 0.5455 - val_loss: 0.6503 - val_acc: 0.6571\n",
      "Epoch 35/1000\n",
      "\n",
      "Epoch 00035: val_loss improved from 0.65026 to 0.64913, saving model to models/best_model.h5\n",
      "418/418 - 0s - loss: 0.6705 - acc: 0.5167 - val_loss: 0.6491 - val_acc: 0.6667\n",
      "Epoch 36/1000\n",
      "\n",
      "Epoch 00036: val_loss improved from 0.64913 to 0.64794, saving model to models/best_model.h5\n",
      "418/418 - 0s - loss: 0.6642 - acc: 0.5766 - val_loss: 0.6479 - val_acc: 0.6667\n",
      "Epoch 37/1000\n",
      "\n",
      "Epoch 00037: val_loss improved from 0.64794 to 0.64661, saving model to models/best_model.h5\n",
      "418/418 - 0s - loss: 0.6599 - acc: 0.5598 - val_loss: 0.6466 - val_acc: 0.6667\n",
      "Epoch 38/1000\n",
      "\n",
      "Epoch 00038: val_loss improved from 0.64661 to 0.64488, saving model to models/best_model.h5\n",
      "418/418 - 0s - loss: 0.6594 - acc: 0.5813 - val_loss: 0.6449 - val_acc: 0.6667\n",
      "Epoch 39/1000\n",
      "\n",
      "Epoch 00039: val_loss improved from 0.64488 to 0.64359, saving model to models/best_model.h5\n",
      "418/418 - 0s - loss: 0.6679 - acc: 0.5383 - val_loss: 0.6436 - val_acc: 0.6571\n",
      "Epoch 40/1000\n",
      "\n",
      "Epoch 00040: val_loss improved from 0.64359 to 0.64160, saving model to models/best_model.h5\n",
      "418/418 - 0s - loss: 0.6550 - acc: 0.5646 - val_loss: 0.6416 - val_acc: 0.6571\n",
      "Epoch 41/1000\n",
      "\n",
      "Epoch 00041: val_loss improved from 0.64160 to 0.63967, saving model to models/best_model.h5\n",
      "418/418 - 0s - loss: 0.6569 - acc: 0.5478 - val_loss: 0.6397 - val_acc: 0.6762\n",
      "Epoch 42/1000\n",
      "\n",
      "Epoch 00042: val_loss improved from 0.63967 to 0.63778, saving model to models/best_model.h5\n",
      "418/418 - 0s - loss: 0.6598 - acc: 0.5550 - val_loss: 0.6378 - val_acc: 0.6762\n",
      "Epoch 43/1000\n",
      "\n",
      "Epoch 00043: val_loss improved from 0.63778 to 0.63613, saving model to models/best_model.h5\n",
      "418/418 - 0s - loss: 0.6596 - acc: 0.5502 - val_loss: 0.6361 - val_acc: 0.6571\n",
      "Epoch 44/1000\n",
      "\n",
      "Epoch 00044: val_loss improved from 0.63613 to 0.63406, saving model to models/best_model.h5\n",
      "418/418 - 0s - loss: 0.6547 - acc: 0.5359 - val_loss: 0.6341 - val_acc: 0.6476\n",
      "Epoch 45/1000\n",
      "\n",
      "Epoch 00045: val_loss improved from 0.63406 to 0.63197, saving model to models/best_model.h5\n",
      "418/418 - 0s - loss: 0.6469 - acc: 0.5766 - val_loss: 0.6320 - val_acc: 0.6476\n",
      "Epoch 46/1000\n",
      "\n",
      "Epoch 00046: val_loss improved from 0.63197 to 0.63051, saving model to models/best_model.h5\n",
      "418/418 - 0s - loss: 0.6564 - acc: 0.5502 - val_loss: 0.6305 - val_acc: 0.6571\n",
      "Epoch 47/1000\n",
      "\n",
      "Epoch 00047: val_loss improved from 0.63051 to 0.62851, saving model to models/best_model.h5\n",
      "418/418 - 0s - loss: 0.6440 - acc: 0.5933 - val_loss: 0.6285 - val_acc: 0.6667\n",
      "Epoch 48/1000\n",
      "\n",
      "Epoch 00048: val_loss improved from 0.62851 to 0.62618, saving model to models/best_model.h5\n",
      "418/418 - 0s - loss: 0.6440 - acc: 0.5813 - val_loss: 0.6262 - val_acc: 0.6667\n",
      "Epoch 49/1000\n",
      "\n",
      "Epoch 00049: val_loss improved from 0.62618 to 0.62350, saving model to models/best_model.h5\n",
      "418/418 - 0s - loss: 0.6367 - acc: 0.5742 - val_loss: 0.6235 - val_acc: 0.6667\n",
      "Epoch 50/1000\n",
      "\n",
      "Epoch 00050: val_loss improved from 0.62350 to 0.62109, saving model to models/best_model.h5\n",
      "418/418 - 0s - loss: 0.6407 - acc: 0.5861 - val_loss: 0.6211 - val_acc: 0.6667\n",
      "Epoch 51/1000\n",
      "\n",
      "Epoch 00051: val_loss improved from 0.62109 to 0.61928, saving model to models/best_model.h5\n",
      "418/418 - 0s - loss: 0.6446 - acc: 0.5670 - val_loss: 0.6193 - val_acc: 0.6667\n",
      "Epoch 52/1000\n",
      "\n",
      "Epoch 00052: val_loss improved from 0.61928 to 0.61712, saving model to models/best_model.h5\n",
      "418/418 - 0s - loss: 0.6337 - acc: 0.6124 - val_loss: 0.6171 - val_acc: 0.6667\n",
      "Epoch 53/1000\n",
      "\n",
      "Epoch 00053: val_loss improved from 0.61712 to 0.61535, saving model to models/best_model.h5\n",
      "418/418 - 0s - loss: 0.6303 - acc: 0.5813 - val_loss: 0.6154 - val_acc: 0.6762\n",
      "Epoch 54/1000\n",
      "\n",
      "Epoch 00054: val_loss improved from 0.61535 to 0.61322, saving model to models/best_model.h5\n",
      "418/418 - 0s - loss: 0.6268 - acc: 0.6029 - val_loss: 0.6132 - val_acc: 0.6857\n",
      "Epoch 55/1000\n",
      "\n",
      "Epoch 00055: val_loss improved from 0.61322 to 0.61118, saving model to models/best_model.h5\n",
      "418/418 - 0s - loss: 0.6323 - acc: 0.6172 - val_loss: 0.6112 - val_acc: 0.6857\n",
      "Epoch 56/1000\n",
      "\n",
      "Epoch 00056: val_loss improved from 0.61118 to 0.60854, saving model to models/best_model.h5\n",
      "418/418 - 0s - loss: 0.6295 - acc: 0.6005 - val_loss: 0.6085 - val_acc: 0.6857\n",
      "Epoch 57/1000\n",
      "\n",
      "Epoch 00057: val_loss improved from 0.60854 to 0.60568, saving model to models/best_model.h5\n",
      "418/418 - 0s - loss: 0.6207 - acc: 0.6220 - val_loss: 0.6057 - val_acc: 0.7143\n",
      "Epoch 58/1000\n",
      "\n",
      "Epoch 00058: val_loss improved from 0.60568 to 0.60297, saving model to models/best_model.h5\n",
      "418/418 - 0s - loss: 0.6126 - acc: 0.6364 - val_loss: 0.6030 - val_acc: 0.7238\n",
      "Epoch 59/1000\n",
      "\n",
      "Epoch 00059: val_loss improved from 0.60297 to 0.60027, saving model to models/best_model.h5\n",
      "418/418 - 0s - loss: 0.6177 - acc: 0.6340 - val_loss: 0.6003 - val_acc: 0.7238\n",
      "Epoch 60/1000\n",
      "\n",
      "Epoch 00060: val_loss improved from 0.60027 to 0.59744, saving model to models/best_model.h5\n",
      "418/418 - 0s - loss: 0.6135 - acc: 0.6292 - val_loss: 0.5974 - val_acc: 0.7238\n",
      "Epoch 61/1000\n",
      "\n",
      "Epoch 00061: val_loss improved from 0.59744 to 0.59429, saving model to models/best_model.h5\n",
      "418/418 - 0s - loss: 0.6100 - acc: 0.6340 - val_loss: 0.5943 - val_acc: 0.7333\n",
      "Epoch 62/1000\n",
      "\n",
      "Epoch 00062: val_loss improved from 0.59429 to 0.59129, saving model to models/best_model.h5\n",
      "418/418 - 0s - loss: 0.5998 - acc: 0.6722 - val_loss: 0.5913 - val_acc: 0.7238\n",
      "Epoch 63/1000\n",
      "\n",
      "Epoch 00063: val_loss improved from 0.59129 to 0.58810, saving model to models/best_model.h5\n",
      "418/418 - 0s - loss: 0.6042 - acc: 0.6770 - val_loss: 0.5881 - val_acc: 0.7333\n",
      "Epoch 64/1000\n",
      "\n",
      "Epoch 00064: val_loss improved from 0.58810 to 0.58479, saving model to models/best_model.h5\n",
      "418/418 - 0s - loss: 0.5951 - acc: 0.6531 - val_loss: 0.5848 - val_acc: 0.7429\n",
      "Epoch 65/1000\n",
      "\n",
      "Epoch 00065: val_loss improved from 0.58479 to 0.58284, saving model to models/best_model.h5\n",
      "418/418 - 0s - loss: 0.5958 - acc: 0.6603 - val_loss: 0.5828 - val_acc: 0.7619\n",
      "Epoch 66/1000\n",
      "\n",
      "Epoch 00066: val_loss improved from 0.58284 to 0.57983, saving model to models/best_model.h5\n",
      "418/418 - 0s - loss: 0.6044 - acc: 0.6388 - val_loss: 0.5798 - val_acc: 0.7524\n",
      "Epoch 67/1000\n",
      "\n",
      "Epoch 00067: val_loss improved from 0.57983 to 0.57668, saving model to models/best_model.h5\n",
      "418/418 - 0s - loss: 0.5936 - acc: 0.6722 - val_loss: 0.5767 - val_acc: 0.7714\n",
      "Epoch 68/1000\n",
      "\n",
      "Epoch 00068: val_loss improved from 0.57668 to 0.57332, saving model to models/best_model.h5\n",
      "418/418 - 0s - loss: 0.5877 - acc: 0.6890 - val_loss: 0.5733 - val_acc: 0.7714\n",
      "Epoch 69/1000\n",
      "\n",
      "Epoch 00069: val_loss improved from 0.57332 to 0.56941, saving model to models/best_model.h5\n",
      "418/418 - 0s - loss: 0.5824 - acc: 0.7010 - val_loss: 0.5694 - val_acc: 0.7810\n",
      "Epoch 70/1000\n",
      "\n",
      "Epoch 00070: val_loss improved from 0.56941 to 0.56566, saving model to models/best_model.h5\n",
      "418/418 - 0s - loss: 0.5780 - acc: 0.7177 - val_loss: 0.5657 - val_acc: 0.7810\n",
      "Epoch 71/1000\n",
      "\n",
      "Epoch 00071: val_loss improved from 0.56566 to 0.56165, saving model to models/best_model.h5\n",
      "418/418 - 0s - loss: 0.5718 - acc: 0.7177 - val_loss: 0.5617 - val_acc: 0.7905\n",
      "Epoch 72/1000\n",
      "\n",
      "Epoch 00072: val_loss improved from 0.56165 to 0.55719, saving model to models/best_model.h5\n",
      "418/418 - 0s - loss: 0.5687 - acc: 0.7177 - val_loss: 0.5572 - val_acc: 0.7905\n",
      "Epoch 73/1000\n",
      "\n",
      "Epoch 00073: val_loss improved from 0.55719 to 0.55420, saving model to models/best_model.h5\n",
      "418/418 - 0s - loss: 0.5701 - acc: 0.6986 - val_loss: 0.5542 - val_acc: 0.8095\n",
      "Epoch 74/1000\n",
      "\n",
      "Epoch 00074: val_loss improved from 0.55420 to 0.55002, saving model to models/best_model.h5\n",
      "418/418 - 0s - loss: 0.5739 - acc: 0.7201 - val_loss: 0.5500 - val_acc: 0.8095\n",
      "Epoch 75/1000\n",
      "\n",
      "Epoch 00075: val_loss improved from 0.55002 to 0.54560, saving model to models/best_model.h5\n",
      "418/418 - 0s - loss: 0.5629 - acc: 0.7488 - val_loss: 0.5456 - val_acc: 0.8095\n",
      "Epoch 76/1000\n",
      "\n",
      "Epoch 00076: val_loss improved from 0.54560 to 0.54148, saving model to models/best_model.h5\n",
      "418/418 - 0s - loss: 0.5586 - acc: 0.7440 - val_loss: 0.5415 - val_acc: 0.8095\n",
      "Epoch 77/1000\n",
      "\n",
      "Epoch 00077: val_loss improved from 0.54148 to 0.53725, saving model to models/best_model.h5\n",
      "418/418 - 0s - loss: 0.5597 - acc: 0.7297 - val_loss: 0.5372 - val_acc: 0.8286\n",
      "Epoch 78/1000\n",
      "\n",
      "Epoch 00078: val_loss improved from 0.53725 to 0.53301, saving model to models/best_model.h5\n",
      "418/418 - 0s - loss: 0.5528 - acc: 0.7440 - val_loss: 0.5330 - val_acc: 0.8381\n",
      "Epoch 79/1000\n",
      "\n",
      "Epoch 00079: val_loss improved from 0.53301 to 0.52834, saving model to models/best_model.h5\n",
      "418/418 - 0s - loss: 0.5421 - acc: 0.7584 - val_loss: 0.5283 - val_acc: 0.8381\n",
      "Epoch 80/1000\n",
      "\n",
      "Epoch 00080: val_loss improved from 0.52834 to 0.52410, saving model to models/best_model.h5\n",
      "418/418 - 0s - loss: 0.5405 - acc: 0.7584 - val_loss: 0.5241 - val_acc: 0.8381\n",
      "Epoch 81/1000\n",
      "\n",
      "Epoch 00081: val_loss improved from 0.52410 to 0.52080, saving model to models/best_model.h5\n",
      "418/418 - 0s - loss: 0.5369 - acc: 0.7871 - val_loss: 0.5208 - val_acc: 0.8381\n",
      "Epoch 82/1000\n",
      "\n",
      "Epoch 00082: val_loss improved from 0.52080 to 0.51582, saving model to models/best_model.h5\n",
      "418/418 - 0s - loss: 0.5283 - acc: 0.8038 - val_loss: 0.5158 - val_acc: 0.8476\n",
      "Epoch 83/1000\n",
      "\n",
      "Epoch 00083: val_loss improved from 0.51582 to 0.51050, saving model to models/best_model.h5\n",
      "418/418 - 0s - loss: 0.5265 - acc: 0.7919 - val_loss: 0.5105 - val_acc: 0.8476\n",
      "Epoch 84/1000\n",
      "\n",
      "Epoch 00084: val_loss improved from 0.51050 to 0.50546, saving model to models/best_model.h5\n",
      "418/418 - 0s - loss: 0.5151 - acc: 0.7775 - val_loss: 0.5055 - val_acc: 0.8667\n",
      "Epoch 85/1000\n",
      "\n",
      "Epoch 00085: val_loss improved from 0.50546 to 0.50103, saving model to models/best_model.h5\n",
      "418/418 - 0s - loss: 0.5106 - acc: 0.8038 - val_loss: 0.5010 - val_acc: 0.8571\n",
      "Epoch 86/1000\n",
      "\n",
      "Epoch 00086: val_loss improved from 0.50103 to 0.49546, saving model to models/best_model.h5\n",
      "418/418 - 0s - loss: 0.5077 - acc: 0.8038 - val_loss: 0.4955 - val_acc: 0.8667\n",
      "Epoch 87/1000\n",
      "\n",
      "Epoch 00087: val_loss improved from 0.49546 to 0.49025, saving model to models/best_model.h5\n",
      "418/418 - 0s - loss: 0.5028 - acc: 0.8158 - val_loss: 0.4902 - val_acc: 0.8571\n",
      "Epoch 88/1000\n",
      "\n",
      "Epoch 00088: val_loss improved from 0.49025 to 0.48466, saving model to models/best_model.h5\n",
      "418/418 - 0s - loss: 0.5047 - acc: 0.7967 - val_loss: 0.4847 - val_acc: 0.8571\n",
      "Epoch 89/1000\n",
      "\n",
      "Epoch 00089: val_loss improved from 0.48466 to 0.47861, saving model to models/best_model.h5\n",
      "418/418 - 0s - loss: 0.4922 - acc: 0.8278 - val_loss: 0.4786 - val_acc: 0.8571\n",
      "Epoch 90/1000\n",
      "\n",
      "Epoch 00090: val_loss improved from 0.47861 to 0.47286, saving model to models/best_model.h5\n",
      "418/418 - 0s - loss: 0.4851 - acc: 0.8278 - val_loss: 0.4729 - val_acc: 0.8571\n",
      "Epoch 91/1000\n",
      "\n",
      "Epoch 00091: val_loss improved from 0.47286 to 0.46678, saving model to models/best_model.h5\n",
      "418/418 - 0s - loss: 0.4889 - acc: 0.8349 - val_loss: 0.4668 - val_acc: 0.8762\n",
      "Epoch 92/1000\n",
      "\n",
      "Epoch 00092: val_loss improved from 0.46678 to 0.46068, saving model to models/best_model.h5\n",
      "418/418 - 0s - loss: 0.4720 - acc: 0.8206 - val_loss: 0.4607 - val_acc: 0.8857\n",
      "Epoch 93/1000\n",
      "\n",
      "Epoch 00093: val_loss improved from 0.46068 to 0.45402, saving model to models/best_model.h5\n",
      "418/418 - 0s - loss: 0.4671 - acc: 0.8493 - val_loss: 0.4540 - val_acc: 0.8857\n",
      "Epoch 94/1000\n",
      "\n",
      "Epoch 00094: val_loss improved from 0.45402 to 0.44881, saving model to models/best_model.h5\n",
      "418/418 - 0s - loss: 0.4638 - acc: 0.8158 - val_loss: 0.4488 - val_acc: 0.8857\n",
      "Epoch 95/1000\n",
      "\n",
      "Epoch 00095: val_loss improved from 0.44881 to 0.44292, saving model to models/best_model.h5\n",
      "418/418 - 0s - loss: 0.4681 - acc: 0.8230 - val_loss: 0.4429 - val_acc: 0.8857\n",
      "Epoch 96/1000\n",
      "\n",
      "Epoch 00096: val_loss improved from 0.44292 to 0.43636, saving model to models/best_model.h5\n",
      "418/418 - 0s - loss: 0.4564 - acc: 0.8397 - val_loss: 0.4364 - val_acc: 0.8857\n",
      "Epoch 97/1000\n",
      "\n",
      "Epoch 00097: val_loss improved from 0.43636 to 0.42953, saving model to models/best_model.h5\n",
      "418/418 - 0s - loss: 0.4573 - acc: 0.8493 - val_loss: 0.4295 - val_acc: 0.8762\n",
      "Epoch 98/1000\n",
      "\n",
      "Epoch 00098: val_loss improved from 0.42953 to 0.42378, saving model to models/best_model.h5\n",
      "418/418 - 0s - loss: 0.4370 - acc: 0.8493 - val_loss: 0.4238 - val_acc: 0.8762\n",
      "Epoch 99/1000\n",
      "\n",
      "Epoch 00099: val_loss improved from 0.42378 to 0.41863, saving model to models/best_model.h5\n",
      "418/418 - 0s - loss: 0.4495 - acc: 0.8541 - val_loss: 0.4186 - val_acc: 0.8762\n",
      "Epoch 100/1000\n",
      "\n",
      "Epoch 00100: val_loss improved from 0.41863 to 0.41341, saving model to models/best_model.h5\n",
      "418/418 - 0s - loss: 0.4406 - acc: 0.8589 - val_loss: 0.4134 - val_acc: 0.8762\n",
      "Epoch 101/1000\n",
      "\n",
      "Epoch 00101: val_loss improved from 0.41341 to 0.40585, saving model to models/best_model.h5\n",
      "418/418 - 0s - loss: 0.4243 - acc: 0.8612 - val_loss: 0.4059 - val_acc: 0.8762\n",
      "Epoch 102/1000\n",
      "\n",
      "Epoch 00102: val_loss improved from 0.40585 to 0.39907, saving model to models/best_model.h5\n",
      "418/418 - 0s - loss: 0.4119 - acc: 0.8804 - val_loss: 0.3991 - val_acc: 0.8762\n",
      "Epoch 103/1000\n",
      "\n",
      "Epoch 00103: val_loss improved from 0.39907 to 0.39142, saving model to models/best_model.h5\n",
      "418/418 - 0s - loss: 0.4206 - acc: 0.8469 - val_loss: 0.3914 - val_acc: 0.8762\n",
      "Epoch 104/1000\n",
      "\n",
      "Epoch 00104: val_loss improved from 0.39142 to 0.38394, saving model to models/best_model.h5\n",
      "418/418 - 0s - loss: 0.4049 - acc: 0.8804 - val_loss: 0.3839 - val_acc: 0.8952\n",
      "Epoch 105/1000\n",
      "\n",
      "Epoch 00105: val_loss improved from 0.38394 to 0.37777, saving model to models/best_model.h5\n",
      "418/418 - 0s - loss: 0.3999 - acc: 0.8660 - val_loss: 0.3778 - val_acc: 0.8762\n",
      "Epoch 106/1000\n",
      "\n",
      "Epoch 00106: val_loss improved from 0.37777 to 0.37121, saving model to models/best_model.h5\n",
      "418/418 - 0s - loss: 0.4012 - acc: 0.8756 - val_loss: 0.3712 - val_acc: 0.8952\n",
      "Epoch 107/1000\n",
      "\n",
      "Epoch 00107: val_loss improved from 0.37121 to 0.36549, saving model to models/best_model.h5\n",
      "418/418 - 0s - loss: 0.3974 - acc: 0.8565 - val_loss: 0.3655 - val_acc: 0.8762\n",
      "Epoch 108/1000\n",
      "\n",
      "Epoch 00108: val_loss improved from 0.36549 to 0.35890, saving model to models/best_model.h5\n",
      "418/418 - 0s - loss: 0.3766 - acc: 0.8876 - val_loss: 0.3589 - val_acc: 0.8857\n",
      "Epoch 109/1000\n",
      "\n",
      "Epoch 00109: val_loss improved from 0.35890 to 0.35253, saving model to models/best_model.h5\n",
      "418/418 - 0s - loss: 0.3679 - acc: 0.8876 - val_loss: 0.3525 - val_acc: 0.8857\n",
      "Epoch 110/1000\n",
      "\n",
      "Epoch 00110: val_loss improved from 0.35253 to 0.34569, saving model to models/best_model.h5\n",
      "418/418 - 0s - loss: 0.3675 - acc: 0.8804 - val_loss: 0.3457 - val_acc: 0.9048\n",
      "Epoch 111/1000\n",
      "\n",
      "Epoch 00111: val_loss improved from 0.34569 to 0.33968, saving model to models/best_model.h5\n",
      "418/418 - 0s - loss: 0.3485 - acc: 0.9115 - val_loss: 0.3397 - val_acc: 0.9048\n",
      "Epoch 112/1000\n",
      "\n",
      "Epoch 00112: val_loss improved from 0.33968 to 0.33303, saving model to models/best_model.h5\n",
      "418/418 - 0s - loss: 0.3591 - acc: 0.8804 - val_loss: 0.3330 - val_acc: 0.9143\n",
      "Epoch 113/1000\n",
      "\n",
      "Epoch 00113: val_loss improved from 0.33303 to 0.32743, saving model to models/best_model.h5\n",
      "418/418 - 0s - loss: 0.3495 - acc: 0.8923 - val_loss: 0.3274 - val_acc: 0.9429\n",
      "Epoch 114/1000\n",
      "\n",
      "Epoch 00114: val_loss improved from 0.32743 to 0.32207, saving model to models/best_model.h5\n",
      "418/418 - 0s - loss: 0.3458 - acc: 0.9019 - val_loss: 0.3221 - val_acc: 0.9429\n",
      "Epoch 115/1000\n",
      "\n",
      "Epoch 00115: val_loss improved from 0.32207 to 0.31567, saving model to models/best_model.h5\n",
      "418/418 - 0s - loss: 0.3391 - acc: 0.8804 - val_loss: 0.3157 - val_acc: 0.9524\n",
      "Epoch 116/1000\n",
      "\n",
      "Epoch 00116: val_loss improved from 0.31567 to 0.31090, saving model to models/best_model.h5\n",
      "418/418 - 0s - loss: 0.3429 - acc: 0.8947 - val_loss: 0.3109 - val_acc: 0.9524\n",
      "Epoch 117/1000\n",
      "\n",
      "Epoch 00117: val_loss improved from 0.31090 to 0.30457, saving model to models/best_model.h5\n",
      "418/418 - 0s - loss: 0.3290 - acc: 0.8923 - val_loss: 0.3046 - val_acc: 0.9524\n",
      "Epoch 118/1000\n",
      "\n",
      "Epoch 00118: val_loss improved from 0.30457 to 0.29957, saving model to models/best_model.h5\n",
      "418/418 - 0s - loss: 0.3294 - acc: 0.8971 - val_loss: 0.2996 - val_acc: 0.9524\n",
      "Epoch 119/1000\n",
      "\n",
      "Epoch 00119: val_loss improved from 0.29957 to 0.29430, saving model to models/best_model.h5\n",
      "418/418 - 0s - loss: 0.3117 - acc: 0.9187 - val_loss: 0.2943 - val_acc: 0.9524\n",
      "Epoch 120/1000\n",
      "\n",
      "Epoch 00120: val_loss improved from 0.29430 to 0.28960, saving model to models/best_model.h5\n",
      "418/418 - 0s - loss: 0.3206 - acc: 0.8971 - val_loss: 0.2896 - val_acc: 0.9524\n",
      "Epoch 121/1000\n",
      "\n",
      "Epoch 00121: val_loss improved from 0.28960 to 0.28499, saving model to models/best_model.h5\n",
      "418/418 - 0s - loss: 0.3042 - acc: 0.9234 - val_loss: 0.2850 - val_acc: 0.9524\n",
      "Epoch 122/1000\n",
      "\n",
      "Epoch 00122: val_loss improved from 0.28499 to 0.28079, saving model to models/best_model.h5\n",
      "418/418 - 0s - loss: 0.2985 - acc: 0.9139 - val_loss: 0.2808 - val_acc: 0.9524\n",
      "Epoch 123/1000\n",
      "\n",
      "Epoch 00123: val_loss improved from 0.28079 to 0.27712, saving model to models/best_model.h5\n",
      "418/418 - 0s - loss: 0.3166 - acc: 0.9187 - val_loss: 0.2771 - val_acc: 0.9524\n",
      "Epoch 124/1000\n",
      "\n",
      "Epoch 00124: val_loss improved from 0.27712 to 0.27272, saving model to models/best_model.h5\n",
      "418/418 - 0s - loss: 0.3090 - acc: 0.8947 - val_loss: 0.2727 - val_acc: 0.9524\n",
      "Epoch 125/1000\n",
      "\n",
      "Epoch 00125: val_loss improved from 0.27272 to 0.26837, saving model to models/best_model.h5\n",
      "418/418 - 0s - loss: 0.3136 - acc: 0.9019 - val_loss: 0.2684 - val_acc: 0.9524\n",
      "Epoch 126/1000\n",
      "\n",
      "Epoch 00126: val_loss improved from 0.26837 to 0.26362, saving model to models/best_model.h5\n",
      "418/418 - 0s - loss: 0.2979 - acc: 0.9067 - val_loss: 0.2636 - val_acc: 0.9524\n",
      "Epoch 127/1000\n",
      "\n",
      "Epoch 00127: val_loss improved from 0.26362 to 0.25950, saving model to models/best_model.h5\n",
      "418/418 - 0s - loss: 0.2767 - acc: 0.9211 - val_loss: 0.2595 - val_acc: 0.9524\n",
      "Epoch 128/1000\n",
      "\n",
      "Epoch 00128: val_loss improved from 0.25950 to 0.25634, saving model to models/best_model.h5\n",
      "418/418 - 0s - loss: 0.2745 - acc: 0.9234 - val_loss: 0.2563 - val_acc: 0.9524\n",
      "Epoch 129/1000\n",
      "\n",
      "Epoch 00129: val_loss improved from 0.25634 to 0.25209, saving model to models/best_model.h5\n",
      "418/418 - 0s - loss: 0.2815 - acc: 0.9139 - val_loss: 0.2521 - val_acc: 0.9524\n",
      "Epoch 130/1000\n",
      "\n",
      "Epoch 00130: val_loss improved from 0.25209 to 0.24847, saving model to models/best_model.h5\n",
      "418/418 - 0s - loss: 0.2783 - acc: 0.9234 - val_loss: 0.2485 - val_acc: 0.9524\n",
      "Epoch 00130: early stopping\n",
      "Model: \"sequential_136\"\n",
      "_________________________________________________________________\n",
      "Layer (type)                 Output Shape              Param #   \n",
      "=================================================================\n",
      "dense_408 (Dense)            (None, 8)                 248       \n",
      "_________________________________________________________________\n",
      "dropout_272 (Dropout)        (None, 8)                 0         \n",
      "_________________________________________________________________\n",
      "dense_409 (Dense)            (None, 8)                 72        \n",
      "_________________________________________________________________\n",
      "dropout_273 (Dropout)        (None, 8)                 0         \n",
      "_________________________________________________________________\n",
      "dense_410 (Dense)            (None, 1)                 9         \n",
      "=================================================================\n",
      "Total params: 329\n",
      "Trainable params: 329\n",
      "Non-trainable params: 0\n",
      "_________________________________________________________________\n"
     ]
    },
    {
     "data": {
      "image/png": "[encoded data removed]",
      "text/plain": [
       "<Figure size 432x288 with 1 Axes>"
      ]
     },
     "metadata": {
      "needs_background": "light"
     },
     "output_type": "display_data"
    },
    {
     "data": {
      "image/png": "[encoded data removed]",
      "text/plain": [
       "<Figure size 432x288 with 1 Axes>"
      ]
     },
     "metadata": {
      "needs_background": "light"
     },
     "output_type": "display_data"
    }
   ],
   "source": [
    "best_model_train = wf.train_model(best_model, best_params, x_train, y_train)"
   ]
  },
  {
   "cell_type": "code",
   "execution_count": 20,
   "metadata": {},
   "outputs": [
    {
     "name": "stdout",
     "output_type": "stream",
     "text": [
      "\n",
      "\n",
      "RMSE = 0.19536616629114087\n",
      "\n",
      "Classification Report\n",
      "\n",
      "              precision    recall  f1-score   support\n",
      "\n",
      "           0    0.95714   0.97101   0.96403        69\n",
      "           1    0.96721   0.95161   0.95935        62\n",
      "\n",
      "    accuracy                        0.96183       131\n",
      "   macro avg    0.96218   0.96131   0.96169       131\n",
      "weighted avg    0.96191   0.96183   0.96181       131\n",
      "\n"
     ]
    },
    {
     "data": {
      "image/png": "[encoded data removed]",
      "text/plain": [
       "<Figure size 432x288 with 2 Axes>"
      ]
     },
     "metadata": {
      "needs_background": "light"
     },
     "output_type": "display_data"
    }
   ],
   "source": [
    "wf.predict_model_and_report(best_model_train, x_test, y_test, ['no exitus', 'exitus'])"
   ]
  },
  {
   "cell_type": "code",
   "execution_count": null,
   "metadata": {},
   "outputs": [],
   "source": []
  }
 ],
 "metadata": {
  "kernelspec": {
   "display_name": "Python 3",
   "language": "python",
   "name": "python3"
  },
  "language_info": {
   "codemirror_mode": {
    "name": "ipython",
    "version": 3
   },
   "file_extension": ".py",
   "mimetype": "text/x-python",
   "name": "python",
   "nbconvert_exporter": "python",
   "pygments_lexer": "ipython3",
   "version": "3.7.6"
  }
 },
 "nbformat": 4,
 "nbformat_minor": 4
}
